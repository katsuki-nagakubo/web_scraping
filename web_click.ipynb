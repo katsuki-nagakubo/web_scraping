{
 "cells": [
  {
   "cell_type": "code",
   "execution_count": 5,
   "metadata": {},
   "outputs": [
    {
     "data": {
      "text/plain": [
       "('test1.xlsx', <http.client.HTTPMessage at 0x109fab190>)"
      ]
     },
     "execution_count": 5,
     "metadata": {},
     "output_type": "execute_result"
    }
   ],
   "source": [
    "import urllib.request # ライブラリを取り込む\n",
    " \n",
    " \n",
    "#URL,保存するファイルのパスを指定\n",
    "\n",
    "url = input(\"url: \") # 保存したいファイルのパスを指定\n",
    "save_name = input (\" save as: \") # test1という名前で保存される。\n",
    " \n",
    "# ダウンロードを実行\n",
    "urllib.request.urlretrieve(url, save_name)"
   ]
  },
  {
   "cell_type": "code",
   "execution_count": null,
   "metadata": {},
   "outputs": [],
   "source": []
  }
 ],
 "metadata": {
  "kernelspec": {
   "display_name": "Python 3",
   "language": "python",
   "name": "python3"
  },
  "language_info": {
   "codemirror_mode": {
    "name": "ipython",
    "version": 3
   },
   "file_extension": ".py",
   "mimetype": "text/x-python",
   "name": "python",
   "nbconvert_exporter": "python",
   "pygments_lexer": "ipython3",
   "version": "3.7.4"
  }
 },
 "nbformat": 4,
 "nbformat_minor": 2
}
